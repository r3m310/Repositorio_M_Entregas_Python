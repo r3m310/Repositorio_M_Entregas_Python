{
 "cells": [
  {
   "cell_type": "markdown",
   "id": "f0f707a5",
   "metadata": {
    "colab_type": "text",
    "id": "view-in-github"
   },
   "source": [
    "<a href=\"https://colab.research.google.com/github/hiramaralIA/Repositorio_M_Entregas_Python/blob/main/PrimeiroProgramaPython.ipynb\" target=\"_parent\"><img src=\"https://colab.research.google.com/assets/colab-badge.svg\" alt=\"Open In Colab\"/></a>"
   ]
  },
  {
   "cell_type": "markdown",
   "id": "4b7db765",
   "metadata": {
    "id": "4b7db765"
   },
   "source": [
    "# Meu primeiro programa em Python para Lógica de Programação"
   ]
  },
  {
   "cell_type": "code",
   "execution_count": 1,
   "id": "d6d9a1d6",
   "metadata": {
    "colab": {
     "base_uri": "https://localhost:8080/"
    },
    "id": "d6d9a1d6",
    "outputId": "c43eaec3-5302-4803-ab14-70c8dc827b8a"
   },
   "outputs": [
    {
     "name": "stdout",
     "output_type": "stream",
     "text": [
      "Olá aluno Cetam! Iniciamos com Python \n"
     ]
    }
   ],
   "source": [
    "print(\"Olá aluno Cetam! Iniciamos com Python \")"
   ]
  },
  {
   "cell_type": "code",
   "execution_count": null,
   "id": "484383e4",
   "metadata": {
    "id": "484383e4",
    "outputId": "57c14723-00dd-43a6-e9c6-0d69f51f2381",
    "scrolled": true
   },
   "outputs": [
    {
     "data": {
      "text/plain": [
       "6"
      ]
     },
     "execution_count": 1,
     "metadata": {},
     "output_type": "execute_result"
    }
   ],
   "source": [
    "2+4"
   ]
  },
  {
   "cell_type": "markdown",
   "id": "26c87c22",
   "metadata": {
    "id": "26c87c22"
   },
   "source": [
    "Primeiroa atalhos: shift + enter abre uma célula, e crtrl + enter executa\n",
    "Para deletar, edit/delete cells"
   ]
  },
  {
   "cell_type": "code",
   "execution_count": null,
   "id": "324bd35a",
   "metadata": {
    "id": "324bd35a"
   },
   "outputs": [],
   "source": [
    "print(\"Olá mundo!\")"
   ]
  },
  {
   "cell_type": "code",
   "execution_count": null,
   "id": "8c6cbb14",
   "metadata": {
    "id": "8c6cbb14",
    "outputId": "02c9f919-f7ba-444c-aadc-1247e5bad1e7"
   },
   "outputs": [
    {
     "name": "stdout",
     "output_type": "stream",
     "text": [
      "2\n"
     ]
    }
   ],
   "source": [
    "print(2)"
   ]
  },
  {
   "cell_type": "code",
   "execution_count": null,
   "id": "593c47e0",
   "metadata": {
    "id": "593c47e0"
   },
   "outputs": [],
   "source": [
    "print('Olá mundo 2!')"
   ]
  },
  {
   "cell_type": "markdown",
   "id": "d2c256a6",
   "metadata": {
    "id": "d2c256a6"
   },
   "source": [
    "# Erro comum"
   ]
  },
  {
   "cell_type": "code",
   "execution_count": null,
   "id": "9b2b76a2",
   "metadata": {
    "id": "9b2b76a2",
    "outputId": "15dd07e1-9cd6-408c-91a8-fd3598a57da9"
   },
   "outputs": [
    {
     "ename": "SyntaxError",
     "evalue": "invalid syntax (Temp/ipykernel_19060/1057246432.py, line 1)",
     "output_type": "error",
     "traceback": [
      "\u001b[1;36m  File \u001b[1;32m\"C:\\Users\\hiram\\AppData\\Local\\Temp/ipykernel_19060/1057246432.py\"\u001b[1;36m, line \u001b[1;32m1\u001b[0m\n\u001b[1;33m    print(Olá mundo!)\u001b[0m\n\u001b[1;37m              ^\u001b[0m\n\u001b[1;31mSyntaxError\u001b[0m\u001b[1;31m:\u001b[0m invalid syntax\n"
     ]
    }
   ],
   "source": [
    "print(Olá mundo!)"
   ]
  },
  {
   "cell_type": "markdown",
   "id": "1eb52954",
   "metadata": {
    "id": "1eb52954"
   },
   "source": [
    "# OPerações em Python segue, a matemática"
   ]
  },
  {
   "cell_type": "code",
   "execution_count": null,
   "id": "28f5ca65",
   "metadata": {
    "id": "28f5ca65",
    "outputId": "fed8b362-9552-49a4-af63-f001adabd0ce"
   },
   "outputs": [
    {
     "name": "stdout",
     "output_type": "stream",
     "text": [
      "6\n"
     ]
    }
   ],
   "source": [
    "print(1+5)"
   ]
  },
  {
   "cell_type": "code",
   "execution_count": null,
   "id": "3c4eef31",
   "metadata": {
    "id": "3c4eef31",
    "outputId": "dbae6b9f-05f7-4f56-d321-42b9f654e9cc",
    "scrolled": true
   },
   "outputs": [
    {
     "name": "stdout",
     "output_type": "stream",
     "text": [
      "10\n"
     ]
    }
   ],
   "source": [
    "print(1+3*3)"
   ]
  },
  {
   "cell_type": "markdown",
   "id": "d6dc7cac",
   "metadata": {
    "id": "d6dc7cac"
   },
   "source": [
    "# Strings em Python"
   ]
  },
  {
   "cell_type": "code",
   "execution_count": null,
   "id": "bccd84bd",
   "metadata": {
    "id": "bccd84bd",
    "outputId": "c83adb30-fa2a-465f-825b-a485a5e23acf"
   },
   "outputs": [
    {
     "name": "stdout",
     "output_type": "stream",
     "text": [
      "Eu estudo LP no CETAM\n"
     ]
    }
   ],
   "source": [
    "print(\"Eu estudo LP no CETAM\")"
   ]
  },
  {
   "cell_type": "markdown",
   "id": "206721cd",
   "metadata": {
    "id": "206721cd"
   },
   "source": [
    "# Concatenar"
   ]
  },
  {
   "cell_type": "code",
   "execution_count": null,
   "id": "49f9ecbb",
   "metadata": {
    "id": "49f9ecbb",
    "outputId": "8855b0c1-625d-444b-dec9-9470f26a3d2f"
   },
   "outputs": [
    {
     "name": "stdout",
     "output_type": "stream",
     "text": [
      "Estou estudando Python\n"
     ]
    }
   ],
   "source": [
    "print('Estou estudando ' +  'Python' )"
   ]
  },
  {
   "cell_type": "code",
   "execution_count": null,
   "id": "8bc73d23",
   "metadata": {
    "id": "8bc73d23",
    "outputId": "bc6b092c-5f32-4e5b-b017-c2d56d4db0a0"
   },
   "outputs": [
    {
     "name": "stdout",
     "output_type": "stream",
     "text": [
      "False\n"
     ]
    }
   ],
   "source": [
    "print('Estou estudando ' in 'Python' )"
   ]
  },
  {
   "cell_type": "code",
   "execution_count": null,
   "id": "2912380f",
   "metadata": {
    "id": "2912380f",
    "outputId": "3314488c-8145-4fe2-e7ee-f9e785e7a931"
   },
   "outputs": [
    {
     "name": "stdout",
     "output_type": "stream",
     "text": [
      "True\n"
     ]
    }
   ],
   "source": [
    "print('Py' in 'Python' )"
   ]
  },
  {
   "cell_type": "code",
   "execution_count": null,
   "id": "17f47241",
   "metadata": {
    "id": "17f47241",
    "outputId": "f7991b30-02a3-443f-91bc-1965019e01e0"
   },
   "outputs": [
    {
     "name": "stdout",
     "output_type": "stream",
     "text": [
      "9\n"
     ]
    }
   ],
   "source": [
    "print(1+8)"
   ]
  },
  {
   "cell_type": "code",
   "execution_count": null,
   "id": "a927a16d",
   "metadata": {
    "id": "a927a16d",
    "outputId": "e7ab19db-1088-4873-d52e-7d0a7f1b88da"
   },
   "outputs": [
    {
     "name": "stdout",
     "output_type": "stream",
     "text": [
      "True\n"
     ]
    }
   ],
   "source": [
    "print('Hiram' in 'Hiram á profesor Python' )"
   ]
  },
  {
   "cell_type": "markdown",
   "id": "74d21f13",
   "metadata": {
    "id": "74d21f13"
   },
   "source": [
    "# Reiniciando o kernel"
   ]
  },
  {
   "cell_type": "code",
   "execution_count": null,
   "id": "d6adafa4",
   "metadata": {
    "id": "d6adafa4"
   },
   "outputs": [],
   "source": [
    "print = \"texto\""
   ]
  },
  {
   "cell_type": "code",
   "execution_count": null,
   "id": "d45834dc",
   "metadata": {
    "id": "d45834dc",
    "outputId": "3fd2c096-f425-4f80-d15a-6155589c5736"
   },
   "outputs": [
    {
     "name": "stdout",
     "output_type": "stream",
     "text": [
      "texto\n"
     ]
    }
   ],
   "source": [
    "print (\"texto\")"
   ]
  },
  {
   "cell_type": "code",
   "execution_count": null,
   "id": "2ea41db3",
   "metadata": {
    "id": "2ea41db3"
   },
   "outputs": [],
   "source": [
    "print"
   ]
  }
 ],
 "metadata": {
  "colab": {
   "include_colab_link": true,
   "name": "PrimeiroProgramaPython.ipynb",
   "provenance": []
  },
  "kernelspec": {
   "display_name": "Python 3 (ipykernel)",
   "language": "python",
   "name": "python3"
  },
  "language_info": {
   "codemirror_mode": {
    "name": "ipython",
    "version": 3
   },
   "file_extension": ".py",
   "mimetype": "text/x-python",
   "name": "python",
   "nbconvert_exporter": "python",
   "pygments_lexer": "ipython3",
   "version": "3.9.7"
  }
 },
 "nbformat": 4,
 "nbformat_minor": 5
}
