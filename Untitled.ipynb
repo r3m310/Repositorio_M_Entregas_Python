{
 "cells": [
  {
   "cell_type": "code",
   "execution_count": 1,
   "id": "38e80e8b",
   "metadata": {},
   "outputs": [
    {
     "name": "stdout",
     "output_type": "stream",
     "text": [
      "ola aluno do cetam! iniciamos o  Python.\n"
     ]
    }
   ],
   "source": [
    "print(\"ola aluno do cetam! iniciamos o  Python.\")"
   ]
  },
  {
   "cell_type": "code",
   "execution_count": 2,
   "id": "a5c22200",
   "metadata": {},
   "outputs": [
    {
     "data": {
      "text/plain": [
       "5"
      ]
     },
     "execution_count": 2,
     "metadata": {},
     "output_type": "execute_result"
    }
   ],
   "source": [
    "2+3"
   ]
  },
  {
   "cell_type": "code",
   "execution_count": 3,
   "id": "ec1cb30d",
   "metadata": {},
   "outputs": [
    {
     "name": "stdout",
     "output_type": "stream",
     "text": [
      "olá mundo !!!\n"
     ]
    }
   ],
   "source": [
    "print(\"olá mundo !!!\")"
   ]
  },
  {
   "cell_type": "code",
   "execution_count": 4,
   "id": "3f97d1b1",
   "metadata": {},
   "outputs": [
    {
     "name": "stdout",
     "output_type": "stream",
     "text": [
      "4\n"
     ]
    }
   ],
   "source": [
    "print(\"4\")"
   ]
  },
  {
   "cell_type": "raw",
   "id": "afd6b063",
   "metadata": {},
   "source": [
    "Erro comum"
   ]
  },
  {
   "cell_type": "code",
   "execution_count": 5,
   "id": "fe5fabf6",
   "metadata": {},
   "outputs": [
    {
     "ename": "SyntaxError",
     "evalue": "invalid syntax (Temp/ipykernel_2140/3359351615.py, line 1)",
     "output_type": "error",
     "traceback": [
      "\u001b[1;36m  File \u001b[1;32m\"C:\\Users\\aluno08\\AppData\\Local\\Temp/ipykernel_2140/3359351615.py\"\u001b[1;36m, line \u001b[1;32m1\u001b[0m\n\u001b[1;33m    print(olá mundo! 2)\u001b[0m\n\u001b[1;37m              ^\u001b[0m\n\u001b[1;31mSyntaxError\u001b[0m\u001b[1;31m:\u001b[0m invalid syntax\n"
     ]
    }
   ],
   "source": [
    "print(olá mundo! 2)"
   ]
  },
  {
   "cell_type": "code",
   "execution_count": 6,
   "id": "b9a44370",
   "metadata": {},
   "outputs": [
    {
     "name": "stdout",
     "output_type": "stream",
     "text": [
      "2\n"
     ]
    }
   ],
   "source": [
    "print(1+1)"
   ]
  },
  {
   "cell_type": "code",
   "execution_count": 7,
   "id": "d164e591",
   "metadata": {},
   "outputs": [
    {
     "name": "stdout",
     "output_type": "stream",
     "text": [
      "11\n"
     ]
    }
   ],
   "source": [
    "print(1+2*5)"
   ]
  },
  {
   "cell_type": "markdown",
   "id": "1bd64a58",
   "metadata": {},
   "source": [
    "# strings em python"
   ]
  },
  {
   "cell_type": "markdown",
   "id": "d589d6e4",
   "metadata": {},
   "source": [
    "print(\"eu estudo LP no CETAM\")"
   ]
  },
  {
   "cell_type": "markdown",
   "id": "fd7a7787",
   "metadata": {},
   "source": [
    "CONCATENAR "
   ]
  },
  {
   "cell_type": "code",
   "execution_count": 12,
   "id": "ccc090ad",
   "metadata": {},
   "outputs": [
    {
     "name": "stdout",
     "output_type": "stream",
     "text": [
      "estou estudando pythom\n"
     ]
    }
   ],
   "source": [
    "print('estou estudando ' + 'pythom' )"
   ]
  },
  {
   "cell_type": "code",
   "execution_count": 13,
   "id": "68553313",
   "metadata": {},
   "outputs": [
    {
     "name": "stdout",
     "output_type": "stream",
     "text": [
      "False\n"
     ]
    }
   ],
   "source": [
    "print('estou estudando ' in 'python')"
   ]
  },
  {
   "cell_type": "code",
   "execution_count": 14,
   "id": "5ddeb74c",
   "metadata": {},
   "outputs": [
    {
     "name": "stdout",
     "output_type": "stream",
     "text": [
      "True\n"
     ]
    }
   ],
   "source": [
    "print('py' in 'python')"
   ]
  },
  {
   "cell_type": "code",
   "execution_count": 15,
   "id": "6a6695b3",
   "metadata": {},
   "outputs": [
    {
     "name": "stdout",
     "output_type": "stream",
     "text": [
      "9\n"
     ]
    }
   ],
   "source": [
    "print(1+8)"
   ]
  },
  {
   "cell_type": "code",
   "execution_count": 16,
   "id": "f0803c8b",
   "metadata": {},
   "outputs": [
    {
     "name": "stdout",
     "output_type": "stream",
     "text": [
      "True\n"
     ]
    }
   ],
   "source": [
    "print('hiram' in 'hiram á professor python')"
   ]
  },
  {
   "cell_type": "markdown",
   "id": "9d5729bd",
   "metadata": {},
   "source": [
    "# reiniciando o kernel"
   ]
  },
  {
   "cell_type": "code",
   "execution_count": 22,
   "id": "b0ea1d7a",
   "metadata": {},
   "outputs": [
    {
     "ename": "TypeError",
     "evalue": "'str' object is not callable",
     "output_type": "error",
     "traceback": [
      "\u001b[1;31m---------------------------------------------------------------------------\u001b[0m",
      "\u001b[1;31mTypeError\u001b[0m                                 Traceback (most recent call last)",
      "\u001b[1;32m~\\AppData\\Local\\Temp/ipykernel_2140/195044577.py\u001b[0m in \u001b[0;36m<module>\u001b[1;34m\u001b[0m\n\u001b[1;32m----> 1\u001b[1;33m \u001b[0mprint\u001b[0m\u001b[1;33m(\u001b[0m\u001b[1;34m\"texto\"\u001b[0m\u001b[1;33m)\u001b[0m\u001b[1;33m\u001b[0m\u001b[1;33m\u001b[0m\u001b[0m\n\u001b[0m",
      "\u001b[1;31mTypeError\u001b[0m: 'str' object is not callable"
     ]
    }
   ],
   "source": [
    "print = \"texto\""
   ]
  },
  {
   "cell_type": "code",
   "execution_count": 2,
   "id": "d0f9551f",
   "metadata": {},
   "outputs": [
    {
     "name": "stdout",
     "output_type": "stream",
     "text": [
      "texto\n"
     ]
    }
   ],
   "source": [
    "print(\"texto\")"
   ]
  },
  {
   "cell_type": "code",
   "execution_count": null,
   "id": "4f935e88",
   "metadata": {},
   "outputs": [],
   "source": []
  }
 ],
 "metadata": {
  "kernelspec": {
   "display_name": "Python 3 (ipykernel)",
   "language": "python",
   "name": "python3"
  },
  "language_info": {
   "codemirror_mode": {
    "name": "ipython",
    "version": 3
   },
   "file_extension": ".py",
   "mimetype": "text/x-python",
   "name": "python",
   "nbconvert_exporter": "python",
   "pygments_lexer": "ipython3",
   "version": "3.9.7"
  }
 },
 "nbformat": 4,
 "nbformat_minor": 5
}
